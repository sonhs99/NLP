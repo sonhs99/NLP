{
  "nbformat": 4,
  "nbformat_minor": 0,
  "metadata": {
    "colab": {
      "provenance": [],
      "mount_file_id": "1VtNbyi7wQlaxRCwPBOfS_W1HipfgCEpx",
      "authorship_tag": "ABX9TyN/FwFTADmCyZkHwC9vnwXZ",
      "include_colab_link": true
    },
    "kernelspec": {
      "name": "python3",
      "display_name": "Python 3"
    },
    "language_info": {
      "name": "python"
    }
  },
  "cells": [
    {
      "cell_type": "markdown",
      "metadata": {
        "id": "view-in-github",
        "colab_type": "text"
      },
      "source": [
        "<a href=\"https://colab.research.google.com/github/sonhs99/NLP/blob/main/implementation/GPT1_KoChat_ft.ipynb\" target=\"_parent\"><img src=\"https://colab.research.google.com/assets/colab-badge.svg\" alt=\"Open In Colab\"/></a>"
      ]
    },
    {
      "cell_type": "markdown",
      "source": [
        "# GPT - 1 모델 구현 - Fine-tuning\n",
        "\n",
        "사용 데이터: 인공적으로 제작된 문답 쌍 11,876개 (https://github.com/songys/Chatbot_data)"
      ],
      "metadata": {
        "id": "MAyCM39sIRCz"
      }
    },
    {
      "cell_type": "code",
      "source": [
        "from google.colab import drive\n",
        "drive.mount('/content/drive')\n",
        "\n",
        "MODEL_PATH = 'drive/MyDrive/weights/GPT1/'\n",
        "PREV_MODEL_NAME = 'koGPTv5-chatbot2'\n",
        "GPT_MODEL_NAME = 'koGPTv5'\n",
        "MODEL_NAME = 'koGPTv5-chatbot2'"
      ],
      "metadata": {
        "id": "dWlrVjFXuVRM",
        "colab": {
          "base_uri": "https://localhost:8080/"
        },
        "outputId": "7e0acfb1-071d-4304-e1bf-e238831f69d4"
      },
      "execution_count": null,
      "outputs": [
        {
          "output_type": "stream",
          "name": "stdout",
          "text": [
            "Mounted at /content/drive\n"
          ]
        }
      ]
    },
    {
      "cell_type": "code",
      "execution_count": null,
      "metadata": {
        "id": "nIbo6441ExEh",
        "colab": {
          "base_uri": "https://localhost:8080/",
          "height": 206
        },
        "outputId": "e332b8f8-9f0c-477b-ba43-1fe49b0e009b"
      },
      "outputs": [
        {
          "output_type": "execute_result",
          "data": {
            "text/plain": [
              "                 Q            A  label\n",
              "0           12시 땡!   하루가 또 가네요.      0\n",
              "1      1지망 학교 떨어졌어    위로해 드립니다.      0\n",
              "2     3박4일 놀러가고 싶다  여행은 언제나 좋죠.      0\n",
              "3  3박4일 정도 놀러가고 싶다  여행은 언제나 좋죠.      0\n",
              "4          PPL 심하네   눈살이 찌푸려지죠.      0"
            ],
            "text/html": [
              "\n",
              "  <div id=\"df-520a6e37-6811-4af7-b230-2ccdc2c707a1\" class=\"colab-df-container\">\n",
              "    <div>\n",
              "<style scoped>\n",
              "    .dataframe tbody tr th:only-of-type {\n",
              "        vertical-align: middle;\n",
              "    }\n",
              "\n",
              "    .dataframe tbody tr th {\n",
              "        vertical-align: top;\n",
              "    }\n",
              "\n",
              "    .dataframe thead th {\n",
              "        text-align: right;\n",
              "    }\n",
              "</style>\n",
              "<table border=\"1\" class=\"dataframe\">\n",
              "  <thead>\n",
              "    <tr style=\"text-align: right;\">\n",
              "      <th></th>\n",
              "      <th>Q</th>\n",
              "      <th>A</th>\n",
              "      <th>label</th>\n",
              "    </tr>\n",
              "  </thead>\n",
              "  <tbody>\n",
              "    <tr>\n",
              "      <th>0</th>\n",
              "      <td>12시 땡!</td>\n",
              "      <td>하루가 또 가네요.</td>\n",
              "      <td>0</td>\n",
              "    </tr>\n",
              "    <tr>\n",
              "      <th>1</th>\n",
              "      <td>1지망 학교 떨어졌어</td>\n",
              "      <td>위로해 드립니다.</td>\n",
              "      <td>0</td>\n",
              "    </tr>\n",
              "    <tr>\n",
              "      <th>2</th>\n",
              "      <td>3박4일 놀러가고 싶다</td>\n",
              "      <td>여행은 언제나 좋죠.</td>\n",
              "      <td>0</td>\n",
              "    </tr>\n",
              "    <tr>\n",
              "      <th>3</th>\n",
              "      <td>3박4일 정도 놀러가고 싶다</td>\n",
              "      <td>여행은 언제나 좋죠.</td>\n",
              "      <td>0</td>\n",
              "    </tr>\n",
              "    <tr>\n",
              "      <th>4</th>\n",
              "      <td>PPL 심하네</td>\n",
              "      <td>눈살이 찌푸려지죠.</td>\n",
              "      <td>0</td>\n",
              "    </tr>\n",
              "  </tbody>\n",
              "</table>\n",
              "</div>\n",
              "    <div class=\"colab-df-buttons\">\n",
              "\n",
              "  <div class=\"colab-df-container\">\n",
              "    <button class=\"colab-df-convert\" onclick=\"convertToInteractive('df-520a6e37-6811-4af7-b230-2ccdc2c707a1')\"\n",
              "            title=\"Convert this dataframe to an interactive table.\"\n",
              "            style=\"display:none;\">\n",
              "\n",
              "  <svg xmlns=\"http://www.w3.org/2000/svg\" height=\"24px\" viewBox=\"0 -960 960 960\">\n",
              "    <path d=\"M120-120v-720h720v720H120Zm60-500h600v-160H180v160Zm220 220h160v-160H400v160Zm0 220h160v-160H400v160ZM180-400h160v-160H180v160Zm440 0h160v-160H620v160ZM180-180h160v-160H180v160Zm440 0h160v-160H620v160Z\"/>\n",
              "  </svg>\n",
              "    </button>\n",
              "\n",
              "  <style>\n",
              "    .colab-df-container {\n",
              "      display:flex;\n",
              "      gap: 12px;\n",
              "    }\n",
              "\n",
              "    .colab-df-convert {\n",
              "      background-color: #E8F0FE;\n",
              "      border: none;\n",
              "      border-radius: 50%;\n",
              "      cursor: pointer;\n",
              "      display: none;\n",
              "      fill: #1967D2;\n",
              "      height: 32px;\n",
              "      padding: 0 0 0 0;\n",
              "      width: 32px;\n",
              "    }\n",
              "\n",
              "    .colab-df-convert:hover {\n",
              "      background-color: #E2EBFA;\n",
              "      box-shadow: 0px 1px 2px rgba(60, 64, 67, 0.3), 0px 1px 3px 1px rgba(60, 64, 67, 0.15);\n",
              "      fill: #174EA6;\n",
              "    }\n",
              "\n",
              "    .colab-df-buttons div {\n",
              "      margin-bottom: 4px;\n",
              "    }\n",
              "\n",
              "    [theme=dark] .colab-df-convert {\n",
              "      background-color: #3B4455;\n",
              "      fill: #D2E3FC;\n",
              "    }\n",
              "\n",
              "    [theme=dark] .colab-df-convert:hover {\n",
              "      background-color: #434B5C;\n",
              "      box-shadow: 0px 1px 3px 1px rgba(0, 0, 0, 0.15);\n",
              "      filter: drop-shadow(0px 1px 2px rgba(0, 0, 0, 0.3));\n",
              "      fill: #FFFFFF;\n",
              "    }\n",
              "  </style>\n",
              "\n",
              "    <script>\n",
              "      const buttonEl =\n",
              "        document.querySelector('#df-520a6e37-6811-4af7-b230-2ccdc2c707a1 button.colab-df-convert');\n",
              "      buttonEl.style.display =\n",
              "        google.colab.kernel.accessAllowed ? 'block' : 'none';\n",
              "\n",
              "      async function convertToInteractive(key) {\n",
              "        const element = document.querySelector('#df-520a6e37-6811-4af7-b230-2ccdc2c707a1');\n",
              "        const dataTable =\n",
              "          await google.colab.kernel.invokeFunction('convertToInteractive',\n",
              "                                                    [key], {});\n",
              "        if (!dataTable) return;\n",
              "\n",
              "        const docLinkHtml = 'Like what you see? Visit the ' +\n",
              "          '<a target=\"_blank\" href=https://colab.research.google.com/notebooks/data_table.ipynb>data table notebook</a>'\n",
              "          + ' to learn more about interactive tables.';\n",
              "        element.innerHTML = '';\n",
              "        dataTable['output_type'] = 'display_data';\n",
              "        await google.colab.output.renderOutput(dataTable, element);\n",
              "        const docLink = document.createElement('div');\n",
              "        docLink.innerHTML = docLinkHtml;\n",
              "        element.appendChild(docLink);\n",
              "      }\n",
              "    </script>\n",
              "  </div>\n",
              "\n",
              "\n",
              "<div id=\"df-66ab8c53-d79e-47fa-b93b-c46cc1815fff\">\n",
              "  <button class=\"colab-df-quickchart\" onclick=\"quickchart('df-66ab8c53-d79e-47fa-b93b-c46cc1815fff')\"\n",
              "            title=\"Suggest charts\"\n",
              "            style=\"display:none;\">\n",
              "\n",
              "<svg xmlns=\"http://www.w3.org/2000/svg\" height=\"24px\"viewBox=\"0 0 24 24\"\n",
              "     width=\"24px\">\n",
              "    <g>\n",
              "        <path d=\"M19 3H5c-1.1 0-2 .9-2 2v14c0 1.1.9 2 2 2h14c1.1 0 2-.9 2-2V5c0-1.1-.9-2-2-2zM9 17H7v-7h2v7zm4 0h-2V7h2v10zm4 0h-2v-4h2v4z\"/>\n",
              "    </g>\n",
              "</svg>\n",
              "  </button>\n",
              "\n",
              "<style>\n",
              "  .colab-df-quickchart {\n",
              "      --bg-color: #E8F0FE;\n",
              "      --fill-color: #1967D2;\n",
              "      --hover-bg-color: #E2EBFA;\n",
              "      --hover-fill-color: #174EA6;\n",
              "      --disabled-fill-color: #AAA;\n",
              "      --disabled-bg-color: #DDD;\n",
              "  }\n",
              "\n",
              "  [theme=dark] .colab-df-quickchart {\n",
              "      --bg-color: #3B4455;\n",
              "      --fill-color: #D2E3FC;\n",
              "      --hover-bg-color: #434B5C;\n",
              "      --hover-fill-color: #FFFFFF;\n",
              "      --disabled-bg-color: #3B4455;\n",
              "      --disabled-fill-color: #666;\n",
              "  }\n",
              "\n",
              "  .colab-df-quickchart {\n",
              "    background-color: var(--bg-color);\n",
              "    border: none;\n",
              "    border-radius: 50%;\n",
              "    cursor: pointer;\n",
              "    display: none;\n",
              "    fill: var(--fill-color);\n",
              "    height: 32px;\n",
              "    padding: 0;\n",
              "    width: 32px;\n",
              "  }\n",
              "\n",
              "  .colab-df-quickchart:hover {\n",
              "    background-color: var(--hover-bg-color);\n",
              "    box-shadow: 0 1px 2px rgba(60, 64, 67, 0.3), 0 1px 3px 1px rgba(60, 64, 67, 0.15);\n",
              "    fill: var(--button-hover-fill-color);\n",
              "  }\n",
              "\n",
              "  .colab-df-quickchart-complete:disabled,\n",
              "  .colab-df-quickchart-complete:disabled:hover {\n",
              "    background-color: var(--disabled-bg-color);\n",
              "    fill: var(--disabled-fill-color);\n",
              "    box-shadow: none;\n",
              "  }\n",
              "\n",
              "  .colab-df-spinner {\n",
              "    border: 2px solid var(--fill-color);\n",
              "    border-color: transparent;\n",
              "    border-bottom-color: var(--fill-color);\n",
              "    animation:\n",
              "      spin 1s steps(1) infinite;\n",
              "  }\n",
              "\n",
              "  @keyframes spin {\n",
              "    0% {\n",
              "      border-color: transparent;\n",
              "      border-bottom-color: var(--fill-color);\n",
              "      border-left-color: var(--fill-color);\n",
              "    }\n",
              "    20% {\n",
              "      border-color: transparent;\n",
              "      border-left-color: var(--fill-color);\n",
              "      border-top-color: var(--fill-color);\n",
              "    }\n",
              "    30% {\n",
              "      border-color: transparent;\n",
              "      border-left-color: var(--fill-color);\n",
              "      border-top-color: var(--fill-color);\n",
              "      border-right-color: var(--fill-color);\n",
              "    }\n",
              "    40% {\n",
              "      border-color: transparent;\n",
              "      border-right-color: var(--fill-color);\n",
              "      border-top-color: var(--fill-color);\n",
              "    }\n",
              "    60% {\n",
              "      border-color: transparent;\n",
              "      border-right-color: var(--fill-color);\n",
              "    }\n",
              "    80% {\n",
              "      border-color: transparent;\n",
              "      border-right-color: var(--fill-color);\n",
              "      border-bottom-color: var(--fill-color);\n",
              "    }\n",
              "    90% {\n",
              "      border-color: transparent;\n",
              "      border-bottom-color: var(--fill-color);\n",
              "    }\n",
              "  }\n",
              "</style>\n",
              "\n",
              "  <script>\n",
              "    async function quickchart(key) {\n",
              "      const quickchartButtonEl =\n",
              "        document.querySelector('#' + key + ' button');\n",
              "      quickchartButtonEl.disabled = true;  // To prevent multiple clicks.\n",
              "      quickchartButtonEl.classList.add('colab-df-spinner');\n",
              "      try {\n",
              "        const charts = await google.colab.kernel.invokeFunction(\n",
              "            'suggestCharts', [key], {});\n",
              "      } catch (error) {\n",
              "        console.error('Error during call to suggestCharts:', error);\n",
              "      }\n",
              "      quickchartButtonEl.classList.remove('colab-df-spinner');\n",
              "      quickchartButtonEl.classList.add('colab-df-quickchart-complete');\n",
              "    }\n",
              "    (() => {\n",
              "      let quickchartButtonEl =\n",
              "        document.querySelector('#df-66ab8c53-d79e-47fa-b93b-c46cc1815fff button');\n",
              "      quickchartButtonEl.style.display =\n",
              "        google.colab.kernel.accessAllowed ? 'block' : 'none';\n",
              "    })();\n",
              "  </script>\n",
              "</div>\n",
              "\n",
              "    </div>\n",
              "  </div>\n"
            ]
          },
          "metadata": {},
          "execution_count": 2
        }
      ],
      "source": [
        "import tensorflow as tf\n",
        "import numpy as np\n",
        "import urllib.request\n",
        "import pandas as pd\n",
        "\n",
        "urllib.request.urlretrieve(\"https://raw.githubusercontent.com/songys/Chatbot_data/master/ChatbotData.csv\", filename=\"ChatBotData.csv\")\n",
        "train_data = pd.read_csv('ChatBotData.csv')\n",
        "train_data.head()"
      ]
    },
    {
      "cell_type": "markdown",
      "source": [
        "## 1. 데이터 정제 및 사전 구축"
      ],
      "metadata": {
        "id": "q92KA8djKTeW"
      }
    },
    {
      "cell_type": "code",
      "source": [
        "import re\n",
        "import random\n",
        "\n",
        "# 데이터 정제\n",
        "# 문장부호를 단어로부터 분리\n",
        "\n",
        "def preprocess(sentence):\n",
        "    sentence = re.sub(r\"([?.!,])\", r\" \\1 \", sentence)\n",
        "    sentence = sentence.strip()\n",
        "    return sentence\n",
        "\n",
        "questions = []\n",
        "for sentence in train_data['Q']:\n",
        "    questions.append(preprocess(sentence))\n",
        "\n",
        "answers = []\n",
        "for sentence in train_data['A']:\n",
        "    answers.append(preprocess(sentence))\n",
        "\n",
        "labels = []\n",
        "for label in train_data['label']:\n",
        "    labels.append(int(label))\n",
        "\n",
        "print(questions[:5])\n",
        "print(answers[:5])\n",
        "print(labels[:5])\n",
        "\n",
        "# dataset = list(zip(questions, answers, labels))\n",
        "# random.shuffle(dataset)\n",
        "# questions, answers, labels = zip(*dataset)\n",
        "\n",
        "# train_Q, train_A, train_l = questions[:-1000], answers[:-1000], labels[:-1000]\n",
        "# test_Q, test_A, test_l = questions[-1000:], answers[-1000:], labels[-1000:]\n",
        "train_Q, train_A, train_l = questions, answers, labels"
      ],
      "metadata": {
        "colab": {
          "base_uri": "https://localhost:8080/"
        },
        "id": "ula28tB1kWWx",
        "outputId": "7af8a038-d264-40c8-fb0d-13de85812f9a"
      },
      "execution_count": null,
      "outputs": [
        {
          "output_type": "stream",
          "name": "stdout",
          "text": [
            "['12시 땡 !', '1지망 학교 떨어졌어', '3박4일 놀러가고 싶다', '3박4일 정도 놀러가고 싶다', 'PPL 심하네']\n",
            "['하루가 또 가네요 .', '위로해 드립니다 .', '여행은 언제나 좋죠 .', '여행은 언제나 좋죠 .', '눈살이 찌푸려지죠 .']\n",
            "[0, 0, 0, 0, 0]\n"
          ]
        }
      ]
    },
    {
      "cell_type": "code",
      "source": [
        "import tensorflow_datasets as tfds\n",
        "\n",
        "# Tokenizer 선언\n",
        "tokenizer = tfds.deprecated.text.SubwordTextEncoder.build_from_corpus(\n",
        "    questions + answers, target_vocab_size=2**13\n",
        ")\n",
        "\n",
        "# 사전 크기 조정\n",
        "# 문자열에 대한 사전 크기에 시작, 종결 토큰 추가\n",
        "start_token, end_token, delimiter_token = [tokenizer.vocab_size], [tokenizer.vocab_size + 1], [tokenizer.vocab_size + 2]\n",
        "vocab_size = tokenizer.vocab_size + 3\n",
        "\n",
        "print('시작 토큰 :', start_token)\n",
        "print('종결 토큰 :', end_token)\n",
        "print('사전 크기 :', vocab_size)"
      ],
      "metadata": {
        "id": "h4Y3_EkjlHTm",
        "colab": {
          "base_uri": "https://localhost:8080/"
        },
        "outputId": "defedafb-b7fc-4bf9-9872-1e24b176c6f5"
      },
      "execution_count": null,
      "outputs": [
        {
          "output_type": "stream",
          "name": "stdout",
          "text": [
            "시작 토큰 : [8178]\n",
            "종결 토큰 : [8179]\n",
            "사전 크기 : 8181\n"
          ]
        }
      ]
    },
    {
      "cell_type": "code",
      "source": [
        "print('원본 :', questions[20])\n",
        "tokenized_string = tokenizer.encode(questions[20])\n",
        "print('부호화 문자열 :', tokenized_string)\n",
        "print('복호화 :', tokenizer.decode(tokenized_string))"
      ],
      "metadata": {
        "id": "AEH3NuVNmHiY",
        "colab": {
          "base_uri": "https://localhost:8080/"
        },
        "outputId": "10525269-62a2-4bd3-a929-c58f9e9e99b5"
      },
      "execution_count": null,
      "outputs": [
        {
          "output_type": "stream",
          "name": "stdout",
          "text": [
            "원본 : 가스비 비싼데 감기 걸리겠어\n",
            "부호화 문자열 : [5766, 611, 3509, 141, 685, 3747, 849]\n",
            "복호화 : 가스비 비싼데 감기 걸리겠어\n"
          ]
        }
      ]
    },
    {
      "cell_type": "code",
      "source": [
        "max_length = 40\n",
        "\n",
        "def tokenize_and_filter(inputs, outputs):\n",
        "    sequence, label = [], []\n",
        "\n",
        "    for s1, s2 in zip(inputs, outputs):\n",
        "        s1 = tokenizer.encode(s1)\n",
        "        s2 = tokenizer.encode(s2)\n",
        "\n",
        "        s = start_token + s1 + delimiter_token + s2 + end_token\n",
        "        sequence.append(s)\n",
        "\n",
        "        l = [0]*(len(s1) + 1) + s2 + end_token\n",
        "        label.append(l)\n",
        "\n",
        "        # mask = [0]*(len(s1) + 1) + [1]*(len(s2) + 2)\n",
        "\n",
        "    sequence = tf.keras.preprocessing.sequence.pad_sequences(\n",
        "        sequence, maxlen=2*max_length+3, padding='post'\n",
        "    )\n",
        "\n",
        "    label = tf.keras.preprocessing.sequence.pad_sequences(\n",
        "        label, maxlen=2*max_length+3, padding='post'\n",
        "    )\n",
        "\n",
        "    # mask = tf.keras.preprocessing.sequence.pad_sequences(\n",
        "    #     mask, maxlen=2*max_length+3, padding='post'\n",
        "    # )\n",
        "\n",
        "    return sequence, label\n",
        "\n",
        "train_S, train_l = tokenize_and_filter(train_Q, train_A)\n",
        "# test_S = tokenize_and_filter(test_Q, test_A)\n",
        "print(train_S.shape)"
      ],
      "metadata": {
        "id": "agYP4S-GnCYd",
        "colab": {
          "base_uri": "https://localhost:8080/"
        },
        "outputId": "591d771f-dd8c-46a0-fada-ec8cdd76d98d"
      },
      "execution_count": null,
      "outputs": [
        {
          "output_type": "stream",
          "name": "stdout",
          "text": [
            "(11823, 83)\n"
          ]
        }
      ]
    },
    {
      "cell_type": "code",
      "source": [
        "batch_size = 128\n",
        "# buffer_size = 20000\n",
        "\n",
        "# def create_dataset(questions, answers):\n",
        "#     dataset = tf.data.Dataset.from_tensor_slices((\n",
        "#         {\n",
        "#             'main_input': questions[:, :-1] # 종결 토큰 제거, 1문장 40단어\n",
        "#         },\n",
        "#         {\n",
        "#             'gpt': questions[:, 1:] # 종결 토큰 제거, 1문장 40단어\n",
        "#         },\n",
        "#         {\n",
        "#             'head': answers\n",
        "#         }\n",
        "#     ))\n",
        "\n",
        "#     dataset = dataset.cache()\n",
        "#     dataset = dataset.shuffle(buffer_size)\n",
        "#     dataset = dataset.batch(batch_size)\n",
        "#     dataset = dataset.prefetch(tf.data.experimental.AUTOTUNE)\n",
        "#     return dataset\n",
        "\n",
        "# train_dataset = create_dataset(train_S, np.array(train_l))\n",
        "# train_X = train_S\n",
        "# train_gpt = train_S[:, 1:]\n",
        "# train_h = np.array(train_l)"
      ],
      "metadata": {
        "id": "fS_2Tmw_onxN"
      },
      "execution_count": null,
      "outputs": []
    },
    {
      "cell_type": "markdown",
      "source": [
        "## 2. Custom Layer 선언"
      ],
      "metadata": {
        "id": "Oal1G3pBKbM7"
      }
    },
    {
      "cell_type": "code",
      "source": [
        "class PositionalEncoding(tf.keras.layers.Layer):\n",
        "    def __init__(self, sequence_length, dim):\n",
        "        super(PositionalEncoding, self).__init__()\n",
        "        self.sequence_length = sequence_length\n",
        "        self.pos_vec = tf.keras.layers.Embedding(sequence_length, dim)\n",
        "\n",
        "    def call(self, x):\n",
        "        vec = tf.range(self.sequence_length)\n",
        "        return x + self.pos_vec(vec)[:tf.shape(x)[1]]"
      ],
      "metadata": {
        "id": "wJJjsQO7E9iV"
      },
      "execution_count": null,
      "outputs": []
    },
    {
      "cell_type": "code",
      "source": [
        "def attention(query, key, value, mask):\n",
        "    depth = tf.cast(tf.shape(key)[-1], dtype=tf.float32)\n",
        "    logit = tf.matmul(query, key, transpose_b=True) / tf.math.sqrt(depth)\n",
        "\n",
        "    if mask is not None:\n",
        "        logit += (mask * -1e9)\n",
        "\n",
        "    dist = tf.nn.softmax(logit, axis=-1)\n",
        "    return tf.matmul(dist, value)\n",
        "\n",
        "class AttentionLayer(tf.keras.layers.Layer):\n",
        "    def __init__(self, num_head, dim):\n",
        "        super(AttentionLayer, self).__init__()\n",
        "\n",
        "        assert dim % num_head == 0\n",
        "\n",
        "        self.query = tf.keras.layers.Dense(dim, use_bias=False)\n",
        "        self.key = tf.keras.layers.Dense(dim, use_bias=False)\n",
        "        self.value = tf.keras.layers.Dense(dim, use_bias=False)\n",
        "\n",
        "        self.w_o = tf.keras.layers.Dense(dim, use_bias=False)\n",
        "\n",
        "        self.num_head = num_head\n",
        "        self.dim = dim\n",
        "        self.head_size = dim // num_head\n",
        "\n",
        "    def split_value(self, x, batch_size):\n",
        "        split = tf.reshape(x, [batch_size, -1, self.num_head, self.head_size])  # [batch, num_vocab, num_head, head_dim]\n",
        "        return tf.transpose(split, [0, 2, 1, 3])                                # [batch, num_head, num_vocab, head_dim]\n",
        "\n",
        "    def call(self, inputs):\n",
        "        query = self.query(inputs[0])\n",
        "        key = self.key(inputs[1])\n",
        "        value = self.value(inputs[2])\n",
        "        mask = inputs[3]\n",
        "\n",
        "        batch_size = tf.shape(query)[0]\n",
        "\n",
        "        query = self.split_value(query, batch_size)\n",
        "        key = self.split_value(key, batch_size)\n",
        "        value = self.split_value(value, batch_size)\n",
        "\n",
        "        attention_value = attention(query, key, value, mask)                # [batch, num_head, num_vocab, head_dim]\n",
        "        attention_value = tf.transpose(attention_value, perm=[0, 2, 1, 3])  # [batch, num_vocab, num_head, head_dim]\n",
        "        attention_value = tf.reshape(attention_value, [batch_size, -1, self.dim]) # [batch, num_vocab, d_model] (num_head * head_dim = d_model)\n",
        "        return self.w_o(attention_value)"
      ],
      "metadata": {
        "id": "eL6qluIzFniJ"
      },
      "execution_count": null,
      "outputs": []
    },
    {
      "cell_type": "code",
      "source": [
        "class EmbeddingTransposeLayer(tf.keras.layers.Layer):\n",
        "    def __init__(self, embedding_layer: tf.keras.layers.Embedding, **kargs):\n",
        "        super(EmbeddingTransposeLayer, self).__init__(**kargs)\n",
        "        self.embeddings = embedding_layer\n",
        "\n",
        "    def build(self, input_shape):\n",
        "        self.custom_weights = self.embeddings.weights[0]\n",
        "        self.build = True\n",
        "\n",
        "    def compute_output_shape(self, input_shape):\n",
        "        return input_shape[0], tf.keras.backend.int_shape(self.custom_weights)[0]\n",
        "\n",
        "    def call(self, x):\n",
        "        return tf.keras.backend.dot(\n",
        "            x, tf.keras.backend.transpose(self.custom_weights))"
      ],
      "metadata": {
        "id": "LpvDGV8nr9sw"
      },
      "execution_count": null,
      "outputs": []
    },
    {
      "cell_type": "markdown",
      "source": [
        "## 3. Decoder 블록 및 GPT 모델 생성"
      ],
      "metadata": {
        "id": "p-VjX-snMMy8"
      }
    },
    {
      "cell_type": "code",
      "source": [
        "def decoder_block(dif, num_head, dim, dropout):\n",
        "    input = tf.keras.layers.Input([None, dim])\n",
        "    mask_input = tf.keras.layers.Input([1, None, None])\n",
        "\n",
        "    mask_attention_x = AttentionLayer(num_head, dim)([input, input, input, mask_input])\n",
        "    x = tf.keras.layers.LayerNormalization(epsilon=1e-6)(input + mask_attention_x)\n",
        "\n",
        "    ffnn_x = tf.keras.layers.Dense(dif, activation='gelu')(x)\n",
        "    ffnn_x = tf.keras.layers.Dense(dim)(ffnn_x)\n",
        "\n",
        "    ffnn_x = tf.keras.layers.Dropout(dropout)(ffnn_x)\n",
        "    x = tf.keras.layers.LayerNormalization(epsilon=1e-6)(x + ffnn_x)\n",
        "    return tf.keras.Model(inputs=[input, mask_input], outputs=x)\n",
        "\n",
        "def decoder(vocab_size, num_layers, dif, num_head, dim, dropout):\n",
        "    input = tf.keras.layers.Input([None, dim])\n",
        "    mask_input = tf.keras.layers.Input([1, None, None])\n",
        "\n",
        "    positional_encoding = PositionalEncoding(2 * max_length + 3, dim)(input)\n",
        "    output = tf.keras.layers.Dropout(dropout)(positional_encoding)\n",
        "\n",
        "    for i in range(num_layers):\n",
        "        output = decoder_block(dif, num_head, dim, dropout)([output, mask_input])\n",
        "\n",
        "    return tf.keras.Model(inputs=[input, mask_input], outputs=output, name='decoder')"
      ],
      "metadata": {
        "id": "SJx8YMWCiqxW"
      },
      "execution_count": null,
      "outputs": []
    },
    {
      "cell_type": "code",
      "source": [
        "def padding_mask(x):\n",
        "    mask = tf.cast(tf.math.equal(x, 0), dtype=tf.float32)\n",
        "    return mask[:, tf.newaxis, tf.newaxis, :]\n",
        "\n",
        "def look_ahead_mask(x):\n",
        "    seq_len = tf.shape(x)[1]\n",
        "    t_look_ahead_mask = 1 - tf.linalg.band_part(tf.ones((seq_len, seq_len)), -1, 0)\n",
        "    t_padding_mask = padding_mask(x)\n",
        "    return tf.maximum(t_look_ahead_mask, t_padding_mask)\n",
        "\n",
        "def gpt(vocab_size, num_layers, dif, num_head, dim, dropout, output_dim):\n",
        "    input = tf.keras.layers.Input([None,], name='input')\n",
        "\n",
        "    embedding_layer = tf.keras.layers.Embedding(vocab_size, dim)\n",
        "    embedding = embedding_layer(input)\n",
        "    dec_mask = tf.keras.layers.Lambda(look_ahead_mask, output_shape=[1, None, None])(input)\n",
        "\n",
        "    dec = decoder(vocab_size, num_layers, dif, num_head, dim, dropout)([embedding, dec_mask])\n",
        "\n",
        "    ml_output = EmbeddingTransposeLayer(embedding_layer, name='ml')(dec[:, :-1, :])\n",
        "\n",
        "    # cls_idx = tf.argmax(tf.equal(input, end_token[0]), axis=1)\n",
        "    # batch_size = tf.cast(tf.shape(cls_idx), dtype=tf.int64)[0]\n",
        "    # cls_idx = tf.range(batch_size, dtype=tf.int64) * batch_size + cls_idx\n",
        "    # gpt_cls = tf.reshape(dec, (-1, dim))\n",
        "    # gpt_cls = tf.gather(params=gpt_cls, indices=cls_idx)\n",
        "    cls_output = tf.keras.layers.Dropout(0.1)(dec)\n",
        "    cls_output = tf.keras.layers.Dense(output_dim, name='cls')(cls_output)\n",
        "\n",
        "    return [\n",
        "        tf.keras.Model(inputs=input, outputs=ml_output),\n",
        "        tf.keras.Model(inputs=input, outputs=cls_output),\n",
        "        tf.keras.Model(inputs=input, outputs=[cls_output, ml_output])\n",
        "        ]"
      ],
      "metadata": {
        "id": "zhmmL5v4l3pr"
      },
      "execution_count": null,
      "outputs": []
    },
    {
      "cell_type": "code",
      "source": [
        "dim = 768\n",
        "num_layers = 12\n",
        "num_head = 12\n",
        "diff = 3072\n",
        "dropout = 0.1\n",
        "\n",
        "gpt_model, inf_model, model = gpt(\n",
        "    vocab_size=vocab_size,\n",
        "    num_layers=num_layers,\n",
        "    dif=diff,\n",
        "    dim=dim,\n",
        "    num_head=num_head,\n",
        "    dropout=dropout,\n",
        "    output_dim=vocab_size\n",
        ")\n",
        "\n",
        "if PREV_MODEL_NAME: model.load_weights(MODEL_PATH+PREV_MODEL_NAME+'.h5')\n",
        "elif GPT_MODEL_NAME: gpt_model.load_weights(MODEL_PATH+GPT_MODEL_NAME+'.h5')"
      ],
      "metadata": {
        "id": "iFpdJdS_ozxp"
      },
      "execution_count": null,
      "outputs": []
    },
    {
      "cell_type": "markdown",
      "source": [
        "## 4. 모델 Compile 및 학습"
      ],
      "metadata": {
        "id": "nITnFDItM-TN"
      }
    },
    {
      "cell_type": "code",
      "source": [
        "class TransformerSchedule(tf.keras.optimizers.schedules.LearningRateSchedule):\n",
        "    def __init__(self, dim, warmup_step=4000):\n",
        "        self.d_model = tf.cast(dim, tf.float32)\n",
        "        self.warmup_step = warmup_step\n",
        "\n",
        "    def __call__(self, step):\n",
        "        step = tf.cast(step, tf.float32)\n",
        "        temp1 = tf.math.rsqrt(step)\n",
        "        temp2 = step * (self.warmup_step ** -1.5)\n",
        "\n",
        "        return tf.math.rsqrt(self.d_model) * tf.math.minimum(temp1, temp2)\n",
        "\n",
        "    def get_config(self):\n",
        "        config = {\n",
        "            'dim': self.d_model,\n",
        "            'warmup_step': self.warmup_step,\n",
        "        }\n",
        "        return config"
      ],
      "metadata": {
        "id": "4BtBFbFQgm3t"
      },
      "execution_count": null,
      "outputs": []
    },
    {
      "cell_type": "code",
      "source": [
        "def gen(tokens):\n",
        "    input = tf.expand_dims(start_token + tokens + delimiter_token, 0)\n",
        "    answer = []\n",
        "    for i in range(max_length):\n",
        "        prediction = inf_model(inputs=input, training=False)[:, -1:, :]\n",
        "        next_token = tf.cast(tf.argmax(prediction, axis=-1), dtype=tf.int32)\n",
        "\n",
        "        if tf.equal(next_token, end_token[0]): break\n",
        "        if tf.equal(next_token, delimiter_token[0]): continue\n",
        "\n",
        "        input = tf.concat([input, next_token], axis=-1)\n",
        "        answer.append(next_token[0, 0])\n",
        "    return np.array(answer)\n",
        "\n",
        "begin_token = tokenizer.encode('1지망 학교 떨어졌어')\n",
        "\n",
        "class TextGenerationCallback(tf.keras.callbacks.Callback):\n",
        "    def __init__(self, generator, s_token, tokenizer):\n",
        "        self.generator = generator\n",
        "        self.start_token = s_token\n",
        "        self.tokenizer = tokenizer\n",
        "\n",
        "    def on_epoch_end(self, epoch, logs=None):\n",
        "        pred_token = self.generator(self.start_token)\n",
        "        answer = tokenizer.decode(pred_token)\n",
        "        print('\\nText :', answer, '$')"
      ],
      "metadata": {
        "id": "4PynpC16zjjU"
      },
      "execution_count": null,
      "outputs": []
    },
    {
      "cell_type": "code",
      "source": [
        "pred_token = gen(begin_token)\n",
        "print(tokenizer.decode(pred_token))"
      ],
      "metadata": {
        "id": "nzrnWivIf6PU"
      },
      "execution_count": null,
      "outputs": []
    },
    {
      "cell_type": "code",
      "source": [
        "# lr = tf.keras.optimizers.schedules.CosineDecay(\n",
        "#     initial_learning_rate=0,\n",
        "#     decay_steps=2000,\n",
        "#     warmup_target=2.5e-4,\n",
        "#     warmup_steps=2000\n",
        "# )\n",
        "lr = TransformerSchedule(dim)\n",
        "opt = tf.optimizers.Adam(learning_rate=lr, beta_1=0.9, beta_2=0.98, epsilon=1e-9)\n",
        "\n",
        "def gpt_loss_function(y_true, y_pred):\n",
        "    y_true = tf.reshape(y_true, shape=(-1, 2 * max_length + 3))\n",
        "    loss = tf.keras.losses.SparseCategoricalCrossentropy(\n",
        "        from_logits=True, reduction='none'\n",
        "    )(y_true, y_pred)\n",
        "    mask = tf.cast(tf.not_equal(y_true, 0), tf.float32)\n",
        "    loss = tf.multiply(loss, mask)\n",
        "    return tf.reduce_mean(loss)\n",
        "\n",
        "inf_model.compile(\n",
        "    optimizer=opt,\n",
        "    loss=[gpt_loss_function],\n",
        "    # loss_weights=[1, 0.5],\n",
        "    )"
      ],
      "metadata": {
        "id": "TEiDhQc-r2OU"
      },
      "execution_count": null,
      "outputs": []
    },
    {
      "cell_type": "code",
      "source": [
        "inf_model.summary(expand_nested=True)"
      ],
      "metadata": {
        "id": "f7Z7EwMFs-uM"
      },
      "execution_count": null,
      "outputs": []
    },
    {
      "cell_type": "code",
      "source": [
        "epoch = 400\n",
        "history = inf_model.fit(train_S, train_l,\n",
        "                    batch_size=batch_size,\n",
        "                    shuffle=True,\n",
        "                    validation_split=0.1,\n",
        "                    epochs=epoch,\n",
        "                    callbacks=[\n",
        "                        tf.keras.callbacks.EarlyStopping(monitor='val_loss', patience=5, start_from_epoch=10),\n",
        "                        TextGenerationCallback(gen, begin_token, tokenizer)\n",
        "                    ])"
      ],
      "metadata": {
        "id": "A3IOB_A6tne8"
      },
      "execution_count": null,
      "outputs": []
    },
    {
      "cell_type": "code",
      "source": [
        "import pandas as pd\n",
        "\n",
        "model.save_weights(MODEL_PATH + MODEL_NAME+'.h5', save_format='h5')\n",
        "\n",
        "hist = pd.DataFrame(history.history)\n",
        "hist_filename = MODEL_NAME + '.json'\n",
        "with open(MODEL_PATH + hist_filename, 'w') as file:\n",
        "    hist.to_json(file)"
      ],
      "metadata": {
        "id": "uA9hkO9VuCQw"
      },
      "execution_count": null,
      "outputs": []
    },
    {
      "cell_type": "markdown",
      "source": [
        "## 5. Test"
      ],
      "metadata": {
        "id": "UcyEHm83NXu_"
      }
    },
    {
      "cell_type": "code",
      "source": [
        "idx = 20\n",
        "s = [start_token + tokenizer.encode(train_Q[idx]) + delimiter_token + tokenizer.encode(train_A[idx]) + end_token]\n",
        "pred = np.argmax(model.predict(s)[0])\n",
        "print(train_Q[idx])\n",
        "print(train_A[idx])\n",
        "print(pred, train_l[idx])"
      ],
      "metadata": {
        "id": "4uNeEEwk-q_E"
      },
      "execution_count": null,
      "outputs": []
    },
    {
      "cell_type": "code",
      "source": [
        "inf_model.compile(\n",
        "    optimizer=opt,\n",
        "    loss='sparse_categorical_crossentropy',\n",
        "    metrics='sparse_categorical_accuracy'\n",
        ")\n",
        "# test_S = []\n",
        "# for s1, s2 in zip(train_Q, test_A):\n",
        "#     s = start_token + tokenizer.encode(s1) + delimiter_token + tokenizer.encode(s2) + end_token\n",
        "#     test_S.append(s)\n",
        "\n",
        "# test_S = tf.keras.preprocessing.sequence.pad_sequences(\n",
        "#         test_S, maxlen=2 * max_length + 3, padding='post'\n",
        "# )\n",
        "train_h = np.array(train_l)\n",
        "inf_model.evaluate(train_S, train_h)"
      ],
      "metadata": {
        "id": "JrLpD8as5jBZ"
      },
      "execution_count": null,
      "outputs": []
    },
    {
      "cell_type": "code",
      "source": [
        "def eval(tokens):\n",
        "    answer = tf.expand_dims(start_token + tokens, 0)\n",
        "    for i in range(max_length):\n",
        "        prediction = inf_model(inputs=answer, training=False)\n",
        "        prediction = prediction[:, -1:, :]\n",
        "        next_token = tf.cast(tf.argmax(prediction, axis=-1), dtype=tf.int32)\n",
        "\n",
        "        if tf.equal(next_token, end_token[0]):\n",
        "            break\n",
        "\n",
        "        answer = tf.concat([answer, next_token], axis=-1)\n",
        "    return tf.squeeze(answer, axis=0)\n",
        "\n",
        "def pred(sentence):\n",
        "    sentence = preprocess(sentence)\n",
        "    tokenized = tokenizer.encode(sentence)\n",
        "\n",
        "    answer_token = gen(tokenized)\n",
        "    answer = tokenizer.decode(\n",
        "        [x for x in answer_token if x < tokenizer.vocab_size]\n",
        "    )\n",
        "\n",
        "    print(f\"질문: {sentence}\")\n",
        "    print(f'정답(Token): {answer_token}')\n",
        "    print(f'정답: {answer}')\n",
        "\n",
        "    return answer"
      ],
      "metadata": {
        "id": "KFvA4Z-185C5"
      },
      "execution_count": null,
      "outputs": []
    },
    {
      "cell_type": "code",
      "source": [
        "from nltk.translate.bleu_score import corpus_bleu\n",
        "from tqdm import tqdm\n",
        "\n",
        "Q, A = [], []\n",
        "for sentense in tqdm(test_Q + test_A):\n",
        "    sentence = preprocess(sentence)\n",
        "    tokenized = tokenizer.encode(sentence)\n",
        "    pred_token = [x for x in eval([tokenized[0]]).numpy() if x < tokenizer.vocab_size]\n",
        "    Q.append(pred_token)\n",
        "\n",
        "    A.append([tokenized])"
      ],
      "metadata": {
        "id": "jav6Bsgad-9c"
      },
      "execution_count": null,
      "outputs": []
    },
    {
      "cell_type": "code",
      "source": [
        "print('BLEU-1 :', corpus_bleu(A, Q, weights=(1, 0, 0, 0)))\n",
        "print('BLEU-2 :', corpus_bleu(A, Q, weights=(0.5, 0.5, 0, 0)))\n",
        "print('BLEU-3 :', corpus_bleu(A, Q, weights=(0.33, 0.33, 0.33, 0)))\n",
        "print('BLEU-4 :', corpus_bleu(A, Q, weights=(0.25, 0.25, 0.25, 0.25)))"
      ],
      "metadata": {
        "id": "3gjFr5p0g3MM"
      },
      "execution_count": null,
      "outputs": []
    },
    {
      "cell_type": "code",
      "source": [
        "pred('1지망 학교 떨어졌어')"
      ],
      "metadata": {
        "id": "J2u6IlCEBtjL",
        "colab": {
          "base_uri": "https://localhost:8080/",
          "height": 90
        },
        "outputId": "c0b28447-9897-4e45-9dff-430bf30e604e"
      },
      "execution_count": null,
      "outputs": [
        {
          "output_type": "stream",
          "name": "stdout",
          "text": [
            "질문: 1지망 학교 떨어졌어\n",
            "정답(Token): [  70 5377   81    1]\n",
            "정답: 시간이 무색하네요 .\n"
          ]
        },
        {
          "output_type": "execute_result",
          "data": {
            "text/plain": [
              "'시간이 무색하네요 .'"
            ],
            "application/vnd.google.colaboratory.intrinsic+json": {
              "type": "string"
            }
          },
          "metadata": {},
          "execution_count": 21
        }
      ]
    },
    {
      "cell_type": "code",
      "source": [
        "pred('잠이 온다')"
      ],
      "metadata": {
        "id": "hQjI2RAL3fQh",
        "colab": {
          "base_uri": "https://localhost:8080/",
          "height": 90
        },
        "outputId": "29ac36b4-43ba-478d-c059-549708ab2f36"
      },
      "execution_count": null,
      "outputs": [
        {
          "output_type": "stream",
          "name": "stdout",
          "text": [
            "질문: 잠이 온다\n",
            "정답(Token): [560 653   1]\n",
            "정답: 일찍 주무세요 .\n"
          ]
        },
        {
          "output_type": "execute_result",
          "data": {
            "text/plain": [
              "'일찍 주무세요 .'"
            ],
            "application/vnd.google.colaboratory.intrinsic+json": {
              "type": "string"
            }
          },
          "metadata": {},
          "execution_count": 22
        }
      ]
    },
    {
      "cell_type": "code",
      "source": [
        "pred('비가 내리네')"
      ],
      "metadata": {
        "id": "p6sLdn58S5Yl",
        "colab": {
          "base_uri": "https://localhost:8080/",
          "height": 90
        },
        "outputId": "5ad5282a-d976-4ce9-f07e-177d746685ac"
      },
      "execution_count": null,
      "outputs": [
        {
          "output_type": "stream",
          "name": "stdout",
          "text": [
            "질문: 비가 내리네\n",
            "정답(Token): [ 535   45 3276    1]\n",
            "정답: 우리 다 참아보세요 .\n"
          ]
        },
        {
          "output_type": "execute_result",
          "data": {
            "text/plain": [
              "'우리 다 참아보세요 .'"
            ],
            "application/vnd.google.colaboratory.intrinsic+json": {
              "type": "string"
            }
          },
          "metadata": {},
          "execution_count": 23
        }
      ]
    }
  ]
}